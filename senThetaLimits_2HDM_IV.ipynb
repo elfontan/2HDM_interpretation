{
 "cells": [
  {
   "cell_type": "code",
   "execution_count": 1,
   "metadata": {},
   "outputs": [],
   "source": [
    "import pandas as pd\n",
    "import numpy as np\n",
    "import requests\n",
    "import math\n",
    "import re\n",
    "import csv"
   ]
  },
  {
   "cell_type": "markdown",
   "metadata": {},
   "source": [
    "## 2HDM (type IV) limits from the low mass dark photon search\n",
    "\n",
    "### Evaluation of sinTheta limits starting from the upper limit on the cross section * BR * acceptance\n",
    "\n",
    "`Acceptance` evaluated generating gg $\\to$ A events with Pythia\n",
    "\n",
    "`Cross section` computed using HiGLU+HDECAY generators\n",
    "`Branching ratios` (A $\\to \\mu\\mu$) retrieved from here: ([link](https://github.com/cecilecaillol/CMS_HAA_SummaryPlots/blob/master/BR/BR_IV_0.5.dat))"
   ]
  },
  {
   "cell_type": "code",
   "execution_count": 2,
   "metadata": {},
   "outputs": [
    {
     "data": {
      "text/plain": [
       "[0.00041, 0.01992, 0.11524, 0.10418, 0.14007, 0.16801, 0.19387, 0.28772]"
      ]
     },
     "execution_count": 2,
     "metadata": {},
     "output_type": "execute_result"
    }
   ],
   "source": [
    "#Observed cross section in pb for different mass points (GeV): 1,2,4,5,6,7,8. Validation: mS = 20 GeV\n",
    "\n",
    "#obs_limit = [ 0.139, 0.159, 0.210, 0.196, 0.196, 0.138, 0.154, 0.172, 0.212, 0.15 ]\n",
    "obs_limit = [ 0.0503, 0.0579, 0.1126, 0.0852, 0.0976, 0.1133, 0.1475, 0.15 ]\n",
    "\n",
    "# Philip's Python Interface\n",
    "#xsec_higlu = [ 2511328.7, 139253.3, 15513.9, 13478.7, 13099.4, 11397.9, 10983.1, 9826.4, 8308.8, 7309.3, 6612.4, 1998.8 ]\n",
    "#xsec_higlu_1 = [ 34950.2, 25042.8, 15118.9, 14845.8, 14620.2, 13521.5, 13100.8, 11115.4, 9126.8, 7702.1, 6750.3, 1998.8 ]\n",
    "\n",
    "# HiGLU standalone\n",
    "xsec_higlu_1 = [ 183357., 55940.7, 45607.8, 32940.1, 24445.4, 18944.6, 15327.4, 3674.1 ]\n",
    "xsec_higlu = [ 187189000, 70218.5, 41759.7, 31963.1, 24611.6, 19677.9, 16289.3, 4140.2 ]\n",
    "    \n",
    "br_amumu = [ 0.021105, 0.026048, 0.002397, 0.002415, 0.001905, 0.001802, 0.001778, 0.001244 ]\n",
    "\n",
    "acc_amumu = [0.0774, 0.0798, 0.0847, 0.1017, 0.1061, 0.1132, 0.1355, 0.3518 ]\n",
    "    \n",
    "senTheta_limit = []\n",
    "senTheta_limit_1 = []\n",
    "\n",
    "for x in range(8):  \n",
    "    senTheta = math.sqrt(obs_limit[x] / (xsec_higlu[x] * br_amumu[x] * acc_amumu[x]))\n",
    "    senTheta_limit.append(round(senTheta,5))\n",
    "\n",
    "senTheta_limit"
   ]
  },
  {
   "cell_type": "code",
   "execution_count": 3,
   "metadata": {},
   "outputs": [
    {
     "data": {
      "text/plain": [
       "[0.01296, 0.02231, 0.11027, 0.10262, 0.14055, 0.17123, 0.19986, 0.30543]"
      ]
     },
     "execution_count": 3,
     "metadata": {},
     "output_type": "execute_result"
    }
   ],
   "source": [
    "for x in range(8):  \n",
    "    senTheta_1 = math.sqrt(obs_limit[x] / (xsec_higlu_1[x] * br_amumu[x] * acc_amumu[x]))\n",
    "    senTheta_limit_1.append(round(senTheta_1,5))\n",
    "\n",
    "senTheta_limit_1"
   ]
  },
  {
   "cell_type": "code",
   "execution_count": null,
   "metadata": {},
   "outputs": [],
   "source": []
  }
 ],
 "metadata": {
  "kernelspec": {
   "display_name": "Python 3",
   "language": "python",
   "name": "python3"
  },
  "language_info": {
   "codemirror_mode": {
    "name": "ipython",
    "version": 3
   },
   "file_extension": ".py",
   "mimetype": "text/x-python",
   "name": "python",
   "nbconvert_exporter": "python",
   "pygments_lexer": "ipython3",
   "version": "3.7.4"
  }
 },
 "nbformat": 4,
 "nbformat_minor": 2
}
